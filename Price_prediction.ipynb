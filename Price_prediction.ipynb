{
  "nbformat": 4,
  "nbformat_minor": 0,
  "metadata": {
    "colab": {
      "provenance": [],
      "mount_file_id": "1ovsyNQi4Qxr-H448FhHou9FjOPkm29eE",
      "authorship_tag": "ABX9TyNT3MqRHqpVzNwxJn4LU1zp",
      "include_colab_link": true
    },
    "kernelspec": {
      "name": "python3",
      "display_name": "Python 3"
    },
    "language_info": {
      "name": "python"
    },
    "accelerator": "GPU"
  },
  "cells": [
    {
      "cell_type": "markdown",
      "metadata": {
        "id": "view-in-github",
        "colab_type": "text"
      },
      "source": [
        "<a href=\"https://colab.research.google.com/github/MarcusKLY/AI-Stock-Prediction/blob/main/Price_prediction.ipynb\" target=\"_parent\"><img src=\"https://colab.research.google.com/assets/colab-badge.svg\" alt=\"Open In Colab\"/></a>"
      ]
    },
    {
      "cell_type": "code",
      "source": [
        "import platform\n",
        "platform.platform()"
      ],
      "metadata": {
        "id": "2DjFOSZpni_5"
      },
      "execution_count": null,
      "outputs": []
    },
    {
      "cell_type": "code",
      "source": [
        "import sys\n",
        "sys.version_info"
      ],
      "metadata": {
        "id": "KYg_2s2VnUFk"
      },
      "execution_count": null,
      "outputs": []
    },
    {
      "cell_type": "code",
      "source": [
        "!nvidia-smi -L\n",
        "!cat /proc/cpuinfo"
      ],
      "metadata": {
        "id": "Pv8i6hCIbPbF"
      },
      "execution_count": null,
      "outputs": []
    },
    {
      "cell_type": "code",
      "metadata": {
        "colab": {
          "base_uri": "https://localhost:8080/",
          "height": 575
        },
        "id": "X06KOemHvq0I",
        "outputId": "c258bec9-aaf7-4c4a-fb2e-ce043c85b915"
      },
      "source": [
        "import numpy as np\n",
        "import matplotlib.pyplot as plt\n",
        "import pandas as pd\n",
        "import pandas_datareader as web\n",
        "import datetime as dt\n",
        "import time\n",
        "\n",
        "from sklearn.preprocessing import MinMaxScaler\n",
        "from tensorflow.keras.models import Sequential\n",
        "from tensorflow.keras.layers import Dense, Dropout, LSTM\n",
        "\n",
        "# load data\n",
        "start_time = time.time()\n",
        "company = 'MS'\n",
        "epochs = 25\n",
        "batch_size = 32\n",
        "units = 60\n",
        "prediction_days = 60\n",
        "start = dt.datetime(2012,1,1)\n",
        "end = dt.datetime(2020,1,1)\n",
        "test_start = dt.datetime(2020,1,1)\n",
        "test_end = dt.datetime.now()\n",
        "\n",
        "\n",
        "#################################################\n",
        "\n",
        "data = web.DataReader(company, 'stooq', start, end)\n",
        "data = data[::-1]\n",
        "\n",
        "# prepare data for model\n",
        "scaler = MinMaxScaler(feature_range=(0,1))\n",
        "scaled_data = scaler.fit_transform(data['Close'].values.reshape(-1,1))\n",
        "\n",
        "\n",
        "\n",
        "x_train = []\n",
        "y_train = []\n",
        "\n",
        "for x in range(prediction_days, len(scaled_data)):\n",
        "    x_train.append(scaled_data[x-prediction_days:x, 0])\n",
        "    y_train.append(scaled_data[x, 0])\n",
        "\n",
        "x_train, y_train = np.array(x_train), np.array(y_train)\n",
        "x_train = np.reshape(x_train, (x_train.shape[0], x_train.shape[1], 1)) #reshape (x_train, into.....)\n",
        "\n",
        "# Build The Model\n",
        "model = Sequential()\n",
        "\n",
        "# 1 LSTM layer, 1 drop out layer,1 LSTM layer, 1 drop out layer, finally a dense layer\n",
        "start_time = time.time()\n",
        "model.add(LSTM(units=units, return_sequences=True, input_shape=(x_train.shape[1],1)))\n",
        "model.add(Dropout(0.2))\n",
        "model.add(LSTM(units=units, return_sequences=True))\n",
        "model.add(Dropout(0.2))\n",
        "model.add(LSTM(units=units)) #no need to return anymore\n",
        "model.add(Dropout(0.2))\n",
        "model.add(Dense(units=1)) #prediction of the next closing value\n",
        "\n",
        "model.compile(optimizer='adam', loss='mean_squared_error')\n",
        "model.fit(x_train, y_train, epochs=epochs, batch_size=batch_size) #epochs means the system see the data 24 times #batch_sizes mean the model see 32 data at once\n",
        "time = (\"%s\" % (time.time() - start_time))\n",
        "\n",
        "model.save('model1')\n",
        "# ''' Test The Model Accuracy on Existing Data '''\n",
        "\n",
        "# Load Test Data #use model that the program never see before\n",
        "\n",
        "\n",
        "test_data = web.DataReader(company, 'stooq', test_start, test_end)\n",
        "test_data = test_data[::-1]\n",
        "actual_prices = test_data['Close'].values\n",
        "\n",
        "total_dataset = pd.concat((data['Close'], test_data['Close']), axis=0)\n",
        "\n",
        "model_inputs = total_dataset[len(total_dataset) - len(test_data) - prediction_days:].values # what model is going to see\n",
        "model_inputs = model_inputs.reshape(-1, 1)\n",
        "model_inputs = scaler.transform(model_inputs)\n",
        "\n",
        "# make predictions on test data\n",
        "\n",
        "x_test = []\n",
        "\n",
        "for x in range(prediction_days, len(model_inputs)): #+1 is the newest one\n",
        "    x_test.append(model_inputs[x-prediction_days:x, 0])\n",
        "\n",
        "x_test = np.array(x_test)\n",
        "x_text = np.reshape(x_test, (x_test.shape[0], x_test.shape[1], 1))\n",
        "\n",
        "predicted_prices = model.predict(x_test)\n",
        "predicted_prices = scaler.inverse_transform(predicted_prices)\n",
        "\n",
        "\n",
        "# predict next stock market day\n",
        "\n",
        "real_data = [model_inputs[len(model_inputs) - prediction_days:len(model_inputs + 1), 0]]\n",
        "real_data = np.array(real_data)\n",
        "real_data = np.reshape(real_data, (real_data.shape[0], real_data.shape[1], 1))\n",
        "\n",
        "prediction = model.predict(real_data)\n",
        "prediction = scaler.inverse_transform(prediction)\n",
        "print(f'Prediction: {prediction}')\n",
        "rmse = np.sqrt((np.mean(predicted_prices)-np.mean(actual_prices))**2)\n",
        "\n",
        "#rmse = np.sqrt(np.mean(np.mean(predicted_prices-actual_prices)**2))\n",
        "print(f'rms error: {rmse}')\n",
        "print(f'time(secs): {time}')\n",
        "\n",
        "# Plot the test Prediction\n",
        "\n",
        "plt.plot(actual_prices, color='b', label=f'Actual {company} Price')\n",
        "plt.plot(predicted_prices, color='r', label=f'Predicted {company} Price')\n",
        "plt.title(f'{company} Share Price')\n",
        "plt.xlabel('Time')\n",
        "plt.ylabel(f'{company} Share Price')\n",
        "plt.legend()\n",
        "plt.savefig(f'company={company} units={units} epochs={epochs} batch_size={batch_size} tomorrow_prediction={prediction} rmse={rmse} prediction days={prediction_days} model training time(sec)={time}.png', dpi=1000)"
      ],
      "execution_count": null,
      "outputs": [
        {
          "output_type": "stream",
          "name": "stdout",
          "text": [
            "Epoch 1/3\n",
            "61/61 [==============================] - 10s 47ms/step - loss: 0.0233\n",
            "Epoch 2/3\n",
            "61/61 [==============================] - 3s 47ms/step - loss: 0.0037\n",
            "Epoch 3/3\n",
            "61/61 [==============================] - 3s 48ms/step - loss: 0.0036\n"
          ]
        },
        {
          "output_type": "stream",
          "name": "stderr",
          "text": [
            "WARNING:absl:Found untraced functions such as lstm_cell_3_layer_call_fn, lstm_cell_3_layer_call_and_return_conditional_losses, lstm_cell_4_layer_call_fn, lstm_cell_4_layer_call_and_return_conditional_losses, lstm_cell_5_layer_call_fn while saving (showing 5 of 15). These functions will not be directly callable after loading.\n"
          ]
        },
        {
          "output_type": "stream",
          "name": "stdout",
          "text": [
            "INFO:tensorflow:Assets written to: model1/assets\n"
          ]
        },
        {
          "output_type": "stream",
          "name": "stderr",
          "text": [
            "INFO:tensorflow:Assets written to: model1/assets\n",
            "WARNING:absl:<keras.layers.recurrent.LSTMCell object at 0x7fa1b7b20dd0> has the same name 'LSTMCell' as a built-in Keras object. Consider renaming <class 'keras.layers.recurrent.LSTMCell'> to avoid naming conflicts when loading with `tf.keras.models.load_model`. If renaming is not possible, pass the object in the `custom_objects` parameter of the load function.\n",
            "WARNING:absl:<keras.layers.recurrent.LSTMCell object at 0x7fa1b7ab77d0> has the same name 'LSTMCell' as a built-in Keras object. Consider renaming <class 'keras.layers.recurrent.LSTMCell'> to avoid naming conflicts when loading with `tf.keras.models.load_model`. If renaming is not possible, pass the object in the `custom_objects` parameter of the load function.\n",
            "WARNING:absl:<keras.layers.recurrent.LSTMCell object at 0x7fa1b7999810> has the same name 'LSTMCell' as a built-in Keras object. Consider renaming <class 'keras.layers.recurrent.LSTMCell'> to avoid naming conflicts when loading with `tf.keras.models.load_model`. If renaming is not possible, pass the object in the `custom_objects` parameter of the load function.\n"
          ]
        },
        {
          "output_type": "stream",
          "name": "stdout",
          "text": [
            "Prediction: [[87.17418]]\n",
            "rms error: 4.239692032384383\n",
            "time(secs): 18.724343299865723\n"
          ]
        },
        {
          "output_type": "display_data",
          "data": {
            "image/png": "[encoded data removed]",
            "text/plain": [
              "<Figure size 432x288 with 1 Axes>"
            ]
          },
          "metadata": {
            "needs_background": "light"
          }
        }
      ]
    },
    {
      "cell_type": "code",
      "source": [
        "# Python3 implementation of Min Heap\n",
        "\n",
        "import sys\n",
        "\n",
        "class MinHeap:\n",
        "\n",
        "\tdef __init__(self, maxsize):\n",
        "\t\tself.maxsize = maxsize\n",
        "\t\tself.size = 0\n",
        "\t\tself.Heap = [0]*(self.maxsize + 1)\n",
        "\t\tself.Heap[0] = -1 * sys.maxsize\n",
        "\t\tself.FRONT = 1\n",
        "\n",
        "\t# Function to return the position of\n",
        "\t# parent for the node currently\n",
        "\t# at pos\n",
        "\tdef parent(self, pos):\n",
        "\t\treturn pos//2\n",
        "\n",
        "\t# Function to return the position of\n",
        "\t# the left child for the node currently\n",
        "\t# at pos\n",
        "\tdef leftChild(self, pos):\n",
        "\t\treturn 2 * pos\n",
        "\n",
        "\t# Function to return the position of\n",
        "\t# the right child for the node currently\n",
        "\t# at pos\n",
        "\tdef rightChild(self, pos):\n",
        "\t\treturn (2 * pos) + 1\n",
        "\n",
        "\t# Function that returns true if the passed\n",
        "\t# node is a leaf node\n",
        "\tdef isLeaf(self, pos):\n",
        "\t\treturn pos*2 > self.size\n",
        "\n",
        "\t# Function to swap two nodes of the heap\n",
        "\tdef swap(self, fpos, spos):\n",
        "\t\tself.Heap[fpos], self.Heap[spos] = self.Heap[spos], self.Heap[fpos]\n",
        "\n",
        "\t# Function to heapify the node at pos\n",
        "\tdef minHeapify(self, pos):\n",
        "\n",
        "\t\t# If the node is a non-leaf node and greater\n",
        "\t\t# than any of its child\n",
        "\t\tif not self.isLeaf(pos):\n",
        "\t\t\tif (self.Heap[pos] > self.Heap[self.leftChild(pos)] or\n",
        "\t\t\tself.Heap[pos] > self.Heap[self.rightChild(pos)]):\n",
        "\n",
        "\t\t\t\t# Swap with the left child and heapify\n",
        "\t\t\t\t# the left child\n",
        "\t\t\t\tif self.Heap[self.leftChild(pos)] < self.Heap[self.rightChild(pos)]:\n",
        "\t\t\t\t\tself.swap(pos, self.leftChild(pos))\n",
        "\t\t\t\t\tself.minHeapify(self.leftChild(pos))\n",
        "\n",
        "\t\t\t\t# Swap with the right child and heapify\n",
        "\t\t\t\t# the right child\n",
        "\t\t\t\telse:\n",
        "\t\t\t\t\tself.swap(pos, self.rightChild(pos))\n",
        "\t\t\t\t\tself.minHeapify(self.rightChild(pos))\n",
        "\n",
        "\t# Function to insert a node into the heap\n",
        "\tdef insert(self, element):\n",
        "\t\tif self.size >= self.maxsize :\n",
        "\t\t\treturn\n",
        "\t\tself.size+= 1\n",
        "\t\tself.Heap[self.size] = element\n",
        "\n",
        "\t\tcurrent = self.size\n",
        "\n",
        "\t\twhile self.Heap[current] < self.Heap[self.parent(current)]:\n",
        "\t\t\tself.swap(current, self.parent(current))\n",
        "\t\t\tcurrent = self.parent(current)\n",
        "\n",
        "\t# Function to print the contents of the heap\n",
        "\tdef Print(self):\n",
        "\t\tfor i in range(1, (self.size//2)+1):\n",
        "\t\t\tprint(\" PARENT : \"+ str(self.Heap[i])+\" LEFT CHILD : \"+\n",
        "\t\t\t\t\t\t\t\tstr(self.Heap[2 * i])+\" RIGHT CHILD : \"+\n",
        "\t\t\t\t\t\t\t\tstr(self.Heap[2 * i + 1]))\n",
        "\n",
        "\t# Function to build the min heap using\n",
        "\t# the minHeapify function\n",
        "\tdef minHeap(self):\n",
        "\n",
        "\t\tfor pos in range(self.size//2, 0, -1):\n",
        "\t\t\tself.minHeapify(pos)\n",
        "\n",
        "\t# Function to remove and return the minimum\n",
        "\t# element from the heap\n",
        "\tdef remove(self):\n",
        "\n",
        "\t\tpopped = self.Heap[self.FRONT]\n",
        "\t\tself.Heap[self.FRONT] = self.Heap[self.size]\n",
        "\t\tself.size-= 1\n",
        "\t\tself.minHeapify(self.FRONT)\n",
        "\t\treturn popped\n",
        "\n",
        "# Driver Code\n",
        "if __name__ == \"__main__\":\n",
        "\t\n",
        "\tprint('The minHeap is ')\n",
        "\tminHeap = MinHeap(15)\n",
        "\tminHeap.insert(53)\n",
        "\tminHeap.insert(66)\n",
        "\tminHeap.insert(209)\n",
        "\tminHeap.insert(62)\n",
        "\tminHeap.insert(32)\n",
        "\tminHeap.insert(41)\n",
        "\tminHeap.insert(22)\n",
        "\tminHeap.insert(36)\n",
        "\tminHeap.insert(26)\n",
        "\tminHeap.minHeap()\n",
        "\n",
        "\tminHeap.Print()\n",
        "\tprint(\"The Min val is \" + str(minHeap.remove()))"
      ],
      "metadata": {
        "colab": {
          "base_uri": "https://localhost:8080/"
        },
        "id": "NAOVaLMUSD2G",
        "outputId": "30eff7e5-d805-4963-f4df-ebce3351e986"
      },
      "execution_count": null,
      "outputs": [
        {
          "output_type": "stream",
          "name": "stdout",
          "text": [
            "The minHeap is \n",
            " PARENT : 22 LEFT CHILD : 26 RIGHT CHILD : 32\n",
            " PARENT : 26 LEFT CHILD : 36 RIGHT CHILD : 62\n",
            " PARENT : 32 LEFT CHILD : 209 RIGHT CHILD : 41\n",
            " PARENT : 36 LEFT CHILD : 66 RIGHT CHILD : 53\n",
            "The Min val is 22\n"
          ]
        }
      ]
    },
    {
      "cell_type": "code",
      "source": [
        "# Python3 program to illustrate deletion in a Binary Tree\n",
        "\n",
        "# class to create a node with data, left child and right child.\n",
        "class Node:\n",
        "\tdef __init__(self,data):\n",
        "\t\tself.data = data\n",
        "\t\tself.left = None\n",
        "\t\tself.right = None\n",
        "\n",
        "# Inorder traversal of a binary tree\n",
        "def inorder(temp):\n",
        "\tif(not temp):\n",
        "\t\treturn\n",
        "\tinorder(temp.left)\n",
        "\tprint(temp.data, end = \" \")\n",
        "\tinorder(temp.right)\n",
        "\n",
        "# function to delete the given deepest node (d_node) in binary tree\n",
        "def deleteDeepest(root,d_node):\n",
        "\tq = []\n",
        "\tq.append(root)\n",
        "\twhile(len(q)):\n",
        "\t\ttemp = q.pop(0)\n",
        "\t\tif temp is d_node:\n",
        "\t\t\ttemp = None\n",
        "\t\t\treturn\n",
        "\t\tif temp.right:\n",
        "\t\t\tif temp.right is d_node:\n",
        "\t\t\t\ttemp.right = None\n",
        "\t\t\t\treturn\n",
        "\t\t\telse:\n",
        "\t\t\t\tq.append(temp.right)\n",
        "\t\tif temp.left:\n",
        "\t\t\tif temp.left is d_node:\n",
        "\t\t\t\ttemp.left = None\n",
        "\t\t\t\treturn\n",
        "\t\t\telse:\n",
        "\t\t\t\tq.append(temp.left)\n",
        "\n",
        "# function to delete element in binary tree\n",
        "def deletion(root, key):\n",
        "\tif root == None :\n",
        "\t\treturn None\n",
        "\tif root.left == None and root.right == None:\n",
        "\t\tif root.key == key :\n",
        "\t\t\treturn None\n",
        "\t\telse :\n",
        "\t\t\treturn root\n",
        "\tkey_node = None\n",
        "\tq = []\n",
        "\tq.append(root)\n",
        "\ttemp = None\n",
        "\twhile(len(q)):\n",
        "\t\ttemp = q.pop(0)\n",
        "\t\tif temp.data == key:\n",
        "\t\t\tkey_node = temp\n",
        "\t\tif temp.left:\n",
        "\t\t\tq.append(temp.left)\n",
        "\t\tif temp.right:\n",
        "\t\t\tq.append(temp.right)\n",
        "\tif key_node :\n",
        "\t\tx = temp.data\n",
        "\t\tdeleteDeepest(root,temp)\n",
        "\t\tkey_node.data = x\n",
        "\treturn root\n",
        "\n",
        "# Driver code\n",
        "if __name__=='__main__':\n",
        "  root = Node(53)\n",
        "  root.left = Node(26)\n",
        "  root.left.left = Node(36)\n",
        "  root.left.left.left = Node(66)\n",
        "  root.left.right = Node(62)\n",
        "  root.right = Node(32)\n",
        "  root.right.left = Node(210)\n",
        "  root.right.right = Node(41)\n",
        "  print(\"The tree before the deletion:\")\n",
        "  inorder(root)\n",
        "  key = 53\n",
        "  root = deletion(root, key)\n",
        "  print()\n",
        "  print(\"The tree after the deletion;\")\n",
        "  inorder(root)\n",
        "\t\n",
        "# This code is contributed by Monika Anandan"
      ],
      "metadata": {
        "colab": {
          "base_uri": "https://localhost:8080/"
        },
        "id": "0YphKBFmY7Gb",
        "outputId": "a8d7d076-d943-4766-a687-79217a223690"
      },
      "execution_count": null,
      "outputs": [
        {
          "output_type": "stream",
          "name": "stdout",
          "text": [
            "The tree before the deletion:\n",
            "66 36 26 62 53 210 32 41 \n",
            "The tree after the deletion;\n",
            "36 26 62 66 210 32 41 "
          ]
        }
      ]
    }
  ]
}