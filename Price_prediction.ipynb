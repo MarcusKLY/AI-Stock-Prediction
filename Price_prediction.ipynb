{
  "nbformat": 4,
  "nbformat_minor": 0,
  "metadata": {
    "colab": {
      "provenance": [],
      "mount_file_id": "1ovsyNQi4Qxr-H448FhHou9FjOPkm29eE",
      "authorship_tag": "ABX9TyOlEUISwSalpSvYjol58IeW",
      "include_colab_link": true
    },
    "kernelspec": {
      "name": "python3",
      "display_name": "Python 3"
    },
    "language_info": {
      "name": "python"
    },
    "accelerator": "GPU"
  },
  "cells": [
    {
      "cell_type": "markdown",
      "metadata": {
        "id": "view-in-github",
        "colab_type": "text"
      },
      "source": [
        "<a href=\"https://colab.research.google.com/github/MarcusKLY/AI-Stock-Prediction/blob/main/Price_prediction.ipynb\" target=\"_parent\"><img src=\"https://colab.research.google.com/assets/colab-badge.svg\" alt=\"Open In Colab\"/></a>"
      ]
    },
    {
      "cell_type": "code",
      "source": [
        "import platform\n",
        "platform.platform()"
      ],
      "metadata": {
        "id": "2DjFOSZpni_5"
      },
      "execution_count": null,
      "outputs": []
    },
    {
      "cell_type": "code",
      "source": [
        "import sys\n",
        "sys.version_info"
      ],
      "metadata": {
        "id": "KYg_2s2VnUFk"
      },
      "execution_count": null,
      "outputs": []
    },
    {
      "cell_type": "code",
      "source": [
        "!nvidia-smi -L\n",
        "!cat /proc/cpuinfo"
      ],
      "metadata": {
        "id": "Pv8i6hCIbPbF"
      },
      "execution_count": null,
      "outputs": []
    },
    {
      "cell_type": "code",
      "metadata": {
        "id": "X06KOemHvq0I"
      },
      "source": [
        "import numpy as np\n",
        "import matplotlib.pyplot as plt\n",
        "import pandas as pd\n",
        "import pandas_datareader as web\n",
        "import datetime as dt\n",
        "import time\n",
        "\n",
        "from sklearn.preprocessing import MinMaxScaler\n",
        "from tensorflow.keras.models import Sequential\n",
        "from tensorflow.keras.layers import Dense, Dropout, LSTM\n",
        "\n",
        "# load data\n",
        "start_time = time.time()\n",
        "company = 'MS'\n",
        "epochs = 25\n",
        "batch_size = 32\n",
        "units = 60\n",
        "prediction_days = 60\n",
        "start = dt.datetime(2012,1,1)\n",
        "end = dt.datetime(2020,1,1)\n",
        "test_start = dt.datetime(2020,1,1)\n",
        "test_end = dt.datetime.now()\n",
        "\n",
        "\n",
        "#################################################\n",
        "\n",
        "data = web.DataReader(company, 'stooq', start, end)\n",
        "data = data[::-1]\n",
        "\n",
        "# prepare data for model\n",
        "scaler = MinMaxScaler(feature_range=(0,1))\n",
        "scaled_data = scaler.fit_transform(data['Close'].values.reshape(-1,1))\n",
        "\n",
        "\n",
        "\n",
        "x_train = []\n",
        "y_train = []\n",
        "\n",
        "for x in range(prediction_days, len(scaled_data)):\n",
        "    x_train.append(scaled_data[x-prediction_days:x, 0])\n",
        "    y_train.append(scaled_data[x, 0])\n",
        "\n",
        "x_train, y_train = np.array(x_train), np.array(y_train)\n",
        "x_train = np.reshape(x_train, (x_train.shape[0], x_train.shape[1], 1)) #reshape (x_train, into.....)\n",
        "\n",
        "# Build The Model\n",
        "model = Sequential()\n",
        "\n",
        "# 1 LSTM layer, 1 drop out layer,1 LSTM layer, 1 drop out layer, finally a dense layer\n",
        "start_time = time.time()\n",
        "model.add(LSTM(units=units, return_sequences=True, input_shape=(x_train.shape[1],1)))\n",
        "model.add(Dropout(0.2))\n",
        "model.add(LSTM(units=units, return_sequences=True))\n",
        "model.add(Dropout(0.2))\n",
        "model.add(LSTM(units=units)) #no need to return anymore\n",
        "model.add(Dropout(0.2))\n",
        "model.add(Dense(units=1)) #prediction of the next closing value\n",
        "\n",
        "model.compile(optimizer='adam', loss='mean_squared_error')\n",
        "model.fit(x_train, y_train, epochs=epochs, batch_size=batch_size) #epochs means the system see the data 24 times #batch_sizes mean the model see 32 data at once\n",
        "time = (\"%s\" % (time.time() - start_time))\n",
        "\n",
        "model.save('model1')\n",
        "# ''' Test The Model Accuracy on Existing Data '''\n",
        "\n",
        "# Load Test Data #use model that the program never see before\n",
        "\n",
        "\n",
        "test_data = web.DataReader(company, 'stooq', test_start, test_end)\n",
        "test_data = test_data[::-1]\n",
        "actual_prices = test_data['Close'].values\n",
        "\n",
        "total_dataset = pd.concat((data['Close'], test_data['Close']), axis=0)\n",
        "\n",
        "model_inputs = total_dataset[len(total_dataset) - len(test_data) - prediction_days:].values # what model is going to see\n",
        "model_inputs = model_inputs.reshape(-1, 1)\n",
        "model_inputs = scaler.transform(model_inputs)\n",
        "\n",
        "# make predictions on test data\n",
        "\n",
        "x_test = []\n",
        "\n",
        "for x in range(prediction_days, len(model_inputs)): #+1 is the newest one\n",
        "    x_test.append(model_inputs[x-prediction_days:x, 0])\n",
        "\n",
        "x_test = np.array(x_test)\n",
        "x_text = np.reshape(x_test, (x_test.shape[0], x_test.shape[1], 1))\n",
        "\n",
        "predicted_prices = model.predict(x_test)\n",
        "predicted_prices = scaler.inverse_transform(predicted_prices)\n",
        "\n",
        "\n",
        "# predict next stock market day\n",
        "\n",
        "real_data = [model_inputs[len(model_inputs) - prediction_days:len(model_inputs + 1), 0]]\n",
        "real_data = np.array(real_data)\n",
        "real_data = np.reshape(real_data, (real_data.shape[0], real_data.shape[1], 1))\n",
        "\n",
        "prediction = model.predict(real_data)\n",
        "prediction = scaler.inverse_transform(prediction)\n",
        "print(f'Prediction: {prediction}')\n",
        "rmse = np.sqrt((np.mean(predicted_prices)-np.mean(actual_prices))**2)\n",
        "\n",
        "#rmse = np.sqrt(np.mean(np.mean(predicted_prices-actual_prices)**2))\n",
        "print(f'rms error: {rmse}')\n",
        "print(f'time(secs): {time}')\n",
        "\n",
        "# Plot the test Prediction\n",
        "\n",
        "plt.plot(actual_prices, color='b', label=f'Actual {company} Price')\n",
        "plt.plot(predicted_prices, color='r', label=f'Predicted {company} Price')\n",
        "plt.title(f'{company} Share Price')\n",
        "plt.xlabel('Time')\n",
        "plt.ylabel(f'{company} Share Price')\n",
        "plt.legend()\n",
        "plt.savefig(f'company={company} units={units} epochs={epochs} batch_size={batch_size} tomorrow_prediction={prediction} rmse={rmse} prediction days={prediction_days} model training time(sec)={time}.png', dpi=1000)"
      ],
      "execution_count": null,
      "outputs": []
    }
  ]
}